{
 "cells": [
  {
   "cell_type": "code",
   "execution_count": 1,
   "id": "48e4e8ee",
   "metadata": {},
   "outputs": [],
   "source": [
    "import pandas as pd"
   ]
  },
  {
   "cell_type": "code",
   "execution_count": 4,
   "id": "40c46d39",
   "metadata": {},
   "outputs": [
    {
     "name": "stdout",
     "output_type": "stream",
     "text": [
      "<class 'pandas.core.frame.DataFrame'>\n",
      "RangeIndex: 7162237 entries, 0 to 7162236\n",
      "Data columns (total 6 columns):\n",
      " #   Column     Dtype  \n",
      "---  ------     -----  \n",
      " 0   Timestamp  float64\n",
      " 1   Open       float64\n",
      " 2   High       float64\n",
      " 3   Low        float64\n",
      " 4   Close      float64\n",
      " 5   Volume     float64\n",
      "dtypes: float64(6)\n",
      "memory usage: 327.9 MB\n"
     ]
    }
   ],
   "source": [
    "df = pd.read_csv('data/btcusd_1-min_data.csv')\n",
    "df.info()"
   ]
  }
 ],
 "metadata": {
  "kernelspec": {
   "display_name": "myenv",
   "language": "python",
   "name": "python3"
  },
  "language_info": {
   "codemirror_mode": {
    "name": "ipython",
    "version": 3
   },
   "file_extension": ".py",
   "mimetype": "text/x-python",
   "name": "python",
   "nbconvert_exporter": "python",
   "pygments_lexer": "ipython3",
   "version": "3.12.3"
  }
 },
 "nbformat": 4,
 "nbformat_minor": 5
}
